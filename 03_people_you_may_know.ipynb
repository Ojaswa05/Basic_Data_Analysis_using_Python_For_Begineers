{
 "cells": [
  {
   "cell_type": "code",
   "execution_count": 6,
   "id": "3be77bc5-aca0-4321-ad93-2949e9122429",
   "metadata": {},
   "outputs": [
    {
     "name": "stdout",
     "output_type": "stream",
     "text": [
      "[5, 9, 16, 14, 17, 1, 2, 4, 8, 7, 15, 19, 20, 24]\n"
     ]
    }
   ],
   "source": [
    "import json\n",
    "\n",
    "def load_data(filename):\n",
    "    with open(filename, \"r\") as f:\n",
    "        return json.load(f)\n",
    "        \n",
    "def find_people_you_may_know(user_id, data):\n",
    "    user_friends = {}\n",
    "    for user in data['users']:\n",
    "        user_friends[user['id']] = set(user['friends'])\n",
    "        \n",
    "    if user_id not in user_friends:\n",
    "        return[]\n",
    "        \n",
    "    direct_friends = user_friends[user_id]\n",
    "    suggestions={}\n",
    "    for friend in direct_friends:    \n",
    "        for mutual in user_friends[friend]:\n",
    "            if mutual!=user_id and mutual not in direct_friends:\n",
    "\n",
    "                #Count mutual friends\n",
    "               suggestions[mutual] = suggestions.get(mutual, 0) + 1\n",
    "    sorted_suggestions = sorted(suggestions.items(), key=lambda x: x[1], reverse=True)\n",
    "    return [user_id for user_id, mutual_count in sorted_suggestions]\n",
    "    \n",
    "#Loading Data\n",
    "data = load_data(\"massive_data.json\")\n",
    "user_id = 12 # for example finding suggestions for amit\n",
    "recommendations = find_people_you_may_know(user_id, data)\n",
    "print(recommendations)"
   ]
  },
  {
   "cell_type": "code",
   "execution_count": null,
   "id": "27ac90d2-af70-451b-b321-3349c0248bce",
   "metadata": {},
   "outputs": [],
   "source": []
  }
 ],
 "metadata": {
  "kernelspec": {
   "display_name": "Python [conda env:base] *",
   "language": "python",
   "name": "conda-base-py"
  },
  "language_info": {
   "codemirror_mode": {
    "name": "ipython",
    "version": 3
   },
   "file_extension": ".py",
   "mimetype": "text/x-python",
   "name": "python",
   "nbconvert_exporter": "python",
   "pygments_lexer": "ipython3",
   "version": "3.13.5"
  }
 },
 "nbformat": 4,
 "nbformat_minor": 5
}
