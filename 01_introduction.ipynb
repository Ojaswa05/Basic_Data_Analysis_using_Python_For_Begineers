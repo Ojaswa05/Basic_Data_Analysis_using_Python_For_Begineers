{
 "cells": [
  {
   "cell_type": "code",
   "execution_count": 1,
   "id": "8504a40e-5c2a-48c9-a15c-9ed60c3e4e1a",
   "metadata": {},
   "outputs": [],
   "source": [
    "import json"
   ]
  },
  {
   "cell_type": "code",
   "execution_count": 2,
   "id": "2ed6475f-bf95-4fb7-866e-6e8e77ad541a",
   "metadata": {},
   "outputs": [],
   "source": [
    "\n",
    "def load_data(filename):\n",
    "    with open(filename,\"r\")as f:\n",
    "        data = json.load(f)\n",
    "    return data"
   ]
  },
  {
   "cell_type": "code",
   "execution_count": 3,
   "id": "ad733994-a516-48e0-9d7d-282ab57fea0e",
   "metadata": {},
   "outputs": [],
   "source": [
    "data =load_data(\"data.json\")"
   ]
  },
  {
   "cell_type": "code",
   "execution_count": 4,
   "id": "6654798c-84fc-4d64-a524-546432ea7f39",
   "metadata": {},
   "outputs": [
    {
     "data": {
      "text/plain": [
       "{'users': [{'id': 1, 'name': 'Amit', 'friends': [2, 3], 'liked_pages': [101]},\n",
       "  {'id': 2, 'name': 'Priya', 'friends': [1, 4], 'liked_pages': [102]},\n",
       "  {'id': 3, 'name': 'Rahul', 'friends': [1], 'liked_pages': [101, 103]},\n",
       "  {'id': 4, 'name': 'Sara', 'friends': [2], 'liked_pages': [104]}],\n",
       " 'pages': [{'id': 101, 'name': 'Python Developers'},\n",
       "  {'id': 102, 'name': 'Data Science Enthusiasts'},\n",
       "  {'id': 103, 'name': 'AI & ML Community'},\n",
       "  {'id': 104, 'name': 'Web Dev Hub'}]}"
      ]
     },
     "execution_count": 4,
     "metadata": {},
     "output_type": "execute_result"
    }
   ],
   "source": [
    "data"
   ]
  },
  {
   "cell_type": "code",
   "execution_count": 5,
   "id": "3ac957dd-3753-434d-8dc0-8be1967627d2",
   "metadata": {},
   "outputs": [
    {
     "data": {
      "text/plain": [
       "dict"
      ]
     },
     "execution_count": 5,
     "metadata": {},
     "output_type": "execute_result"
    }
   ],
   "source": [
    "type(data)      "
   ]
  },
  {
   "cell_type": "code",
   "execution_count": 10,
   "id": "3ba90383-bd0a-4a9f-9c04-d2bc01f9c2d2",
   "metadata": {},
   "outputs": [
    {
     "name": "stdout",
     "output_type": "stream",
     "text": [
      "Users and their connection\n",
      "\n",
      "ID:1 - Amit is friends with:[2, 3]and liked pages are [101]\n",
      "ID:2 - Priya is friends with:[1, 4]and liked pages are [102]\n",
      "ID:3 - Rahul is friends with:[1]and liked pages are [101, 103]\n",
      "ID:4 - Sara is friends with:[2]and liked pages are [104]\n",
      "\n",
      "Pages Information\n",
      "101: Python Developers\n",
      "102: Data Science Enthusiasts\n",
      "103: AI & ML Community\n",
      "104: Web Dev Hub\n"
     ]
    }
   ],
   "source": [
    "def display_users(data):\n",
    "    print(\"Users and their connection\\n\")\n",
    "    for user in data['users']:\n",
    "        print(f\"ID:{user['id']} - {user['name']} is friends with:{user['friends']}and liked pages are {user['liked_pages']}\")\n",
    "    print(\"\\nPages Information\")\n",
    "    for page in data['pages']:\n",
    "        print(f\"{page['id']}: {page['name']}\")\n",
    "\n",
    "display_users(data)"
   ]
  },
  {
   "cell_type": "code",
   "execution_count": null,
   "id": "1b5f996e-cb6e-45de-b9ad-ce80c11bceb9",
   "metadata": {},
   "outputs": [],
   "source": []
  }
 ],
 "metadata": {
  "kernelspec": {
   "display_name": "Python [conda env:base] *",
   "language": "python",
   "name": "conda-base-py"
  },
  "language_info": {
   "codemirror_mode": {
    "name": "ipython",
    "version": 3
   },
   "file_extension": ".py",
   "mimetype": "text/x-python",
   "name": "python",
   "nbconvert_exporter": "python",
   "pygments_lexer": "ipython3",
   "version": "3.13.5"
  }
 },
 "nbformat": 4,
 "nbformat_minor": 5
}
