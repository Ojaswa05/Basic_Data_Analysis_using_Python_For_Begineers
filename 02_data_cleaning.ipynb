{
 "cells": [
  {
   "cell_type": "code",
   "execution_count": 3,
   "id": "c82800c9-0ad4-469e-9159-ef6cda5f304a",
   "metadata": {},
   "outputs": [
    {
     "name": "stdout",
     "output_type": "stream",
     "text": [
      "Data has been cleaned successfully\n"
     ]
    }
   ],
   "source": [
    "import json\n",
    "\n",
    "def clean_data(data):\n",
    "    #Remove users with missing names\n",
    "    data[\"users\"] = [user for user in data['users'] if user[\"name\"].strip()]\n",
    "    #Remove duplicate friends\n",
    "    for user in data [\"users\"]:\n",
    "        user['friends'] = list(set(user['friends']))\n",
    "    #Remove inactive users\n",
    "    data['users'] = [user for user in data['users'] if user['friends']or user[\"friends\"] or user[\"liked_pages\"]]\n",
    "    #Remove Duplicate Pages\n",
    "    unique_pages ={}\n",
    "    for page in data[\"pages\"]: \n",
    "        unique_pages[page[\"id\"]]=page\n",
    "    data[\"pages\"]=list(unique_pages.values())\n",
    "    \n",
    "    return data\n",
    "\n",
    "data = json.load(open(\"data_2.json\"))\n",
    "data = clean_data(data)\n",
    "json.dump(data, open(\"cleaned_data_2.json\", \"w\"),indent =4)\n",
    "print(\"Data has been cleaned successfully\")"
   ]
  },
  {
   "cell_type": "code",
   "execution_count": null,
   "id": "c6fc3a6e-d435-4270-b20d-e03f9ede74d7",
   "metadata": {},
   "outputs": [],
   "source": []
  }
 ],
 "metadata": {
  "kernelspec": {
   "display_name": "Python [conda env:base] *",
   "language": "python",
   "name": "conda-base-py"
  },
  "language_info": {
   "codemirror_mode": {
    "name": "ipython",
    "version": 3
   },
   "file_extension": ".py",
   "mimetype": "text/x-python",
   "name": "python",
   "nbconvert_exporter": "python",
   "pygments_lexer": "ipython3",
   "version": "3.13.5"
  }
 },
 "nbformat": 4,
 "nbformat_minor": 5
}
